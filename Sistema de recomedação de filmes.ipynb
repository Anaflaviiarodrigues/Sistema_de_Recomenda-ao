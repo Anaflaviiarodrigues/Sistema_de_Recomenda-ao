{
 "cells": [
  {
   "cell_type": "code",
   "execution_count": 62,
   "metadata": {},
   "outputs": [],
   "source": [
    "import pandas as pd\n",
    "import random\n",
    "from itertools import permutations\n",
    "from pandas import DataFrame\n",
    "from pandas.core.frame import DataFrame\n",
    "from faker import Faker\n",
    "from sklearn.metrics.pairwise import cosine_similarity\n",
    "fake = Faker()\n"
   ]
  },
  {
   "cell_type": "markdown",
   "metadata": {},
   "source": [
    "# Criando a base de dados"
   ]
  },
  {
   "cell_type": "code",
   "execution_count": 63,
   "metadata": {},
   "outputs": [],
   "source": [
    "# Gerar úsuarios com a bibilioteca faker\n",
    "def criar_email(how_many):\n",
    "    email = []\n",
    "    for i in range(0, how_many):\n",
    "        email.append(fake.email())\n",
    "    return email"
   ]
  },
  {
   "cell_type": "code",
   "execution_count": 64,
   "metadata": {},
   "outputs": [
    {
     "name": "stdout",
     "output_type": "stream",
     "text": [
      "['katherineleon@robinson-baker.com', 'mjones@gmail.com', 'benjamin88@hotmail.com', 'jenningsmelissa@torres.org', 'hcook@yahoo.com', 'brownruben@hotmail.com', 'holly64@ryan-baker.net', 'vriley@gmail.com', 'daniellemorgan@luna-tucker.com', 'garnercurtis@murillo-carter.org', 'rpatterson@thompson.net', 'andrewwhite@arias-pearson.net', 'yvonnehernandez@gmail.com', 'martinphilip@rosario.org', 'kfox@hotmail.com', 'chasevazquez@yahoo.com', 'dyerjames@kelley.com', 'gary96@hotmail.com', 'fholland@miller-barnes.net', 'coopernancy@walker.com']\n"
     ]
    }
   ],
   "source": [
    "email = criar_email(20)\n",
    "print(email)\n"
   ]
  },
  {
   "cell_type": "code",
   "execution_count": 65,
   "metadata": {},
   "outputs": [
    {
     "name": "stdout",
     "output_type": "stream",
     "text": [
      "['katherineleon@robinson-baker.com', 'mjones@gmail.com', 'benjamin88@hotmail.com', 'jenningsmelissa@torres.org', 'hcook@yahoo.com', 'brownruben@hotmail.com', 'holly64@ryan-baker.net', 'vriley@gmail.com', 'daniellemorgan@luna-tucker.com', 'garnercurtis@murillo-carter.org', 'rpatterson@thompson.net', 'andrewwhite@arias-pearson.net', 'yvonnehernandez@gmail.com', 'martinphilip@rosario.org', 'kfox@hotmail.com', 'chasevazquez@yahoo.com', 'dyerjames@kelley.com', 'gary96@hotmail.com', 'fholland@miller-barnes.net', 'coopernancy@walker.com', 'katherineleon@robinson-baker.com', 'mjones@gmail.com', 'benjamin88@hotmail.com', 'jenningsmelissa@torres.org', 'hcook@yahoo.com', 'brownruben@hotmail.com', 'holly64@ryan-baker.net', 'vriley@gmail.com', 'daniellemorgan@luna-tucker.com', 'garnercurtis@murillo-carter.org', 'rpatterson@thompson.net', 'andrewwhite@arias-pearson.net', 'yvonnehernandez@gmail.com', 'martinphilip@rosario.org', 'kfox@hotmail.com', 'chasevazquez@yahoo.com', 'dyerjames@kelley.com', 'gary96@hotmail.com', 'fholland@miller-barnes.net', 'coopernancy@walker.com']\n"
     ]
    }
   ],
   "source": [
    "# Concatenar os emails\n",
    "email_id = email + email\n",
    "print(email_id)"
   ]
  },
  {
   "cell_type": "code",
   "execution_count": 66,
   "metadata": {},
   "outputs": [],
   "source": [
    "# Criar função para determinar os filmes\n",
    "def criar_filmes(how_many):\n",
    "    titulo = [\"Filme1\", \"Filme2\", \"Filme3\", \"Filme4\", \"Filme5\"]\n",
    "    filmes = []\n",
    "    for i in range(0, how_many):\n",
    "        filmes.append(random.choice(titulo))\n",
    "    return filmes\n"
   ]
  },
  {
   "cell_type": "code",
   "execution_count": 67,
   "metadata": {},
   "outputs": [
    {
     "name": "stdout",
     "output_type": "stream",
     "text": [
      "['Filme4', 'Filme5', 'Filme5', 'Filme5', 'Filme4', 'Filme3', 'Filme4', 'Filme4', 'Filme4', 'Filme1', 'Filme1', 'Filme2', 'Filme4', 'Filme5', 'Filme1', 'Filme1', 'Filme4', 'Filme4', 'Filme2', 'Filme3', 'Filme5', 'Filme4', 'Filme1', 'Filme3', 'Filme4', 'Filme5', 'Filme1', 'Filme2', 'Filme3', 'Filme5', 'Filme3', 'Filme4', 'Filme4', 'Filme2', 'Filme2', 'Filme4', 'Filme5', 'Filme1', 'Filme2', 'Filme1']\n"
     ]
    }
   ],
   "source": [
    "filme_id = criar_filmes(40)\n",
    "print(filme_id)\n"
   ]
  },
  {
   "cell_type": "code",
   "execution_count": 68,
   "metadata": {},
   "outputs": [],
   "source": [
    "# Criar função para determinar a classificação\n",
    "def criar_clas(how_many):\n",
    "    classificacao = []\n",
    "    for i in range(0, how_many):\n",
    "        classificacao.append(random.randint(0, 5))\n",
    "    return classificacao\n"
   ]
  },
  {
   "cell_type": "code",
   "execution_count": 69,
   "metadata": {},
   "outputs": [
    {
     "name": "stdout",
     "output_type": "stream",
     "text": [
      "[0, 5, 1, 0, 3, 5, 0, 1, 1, 5, 3, 1, 1, 4, 1, 5, 4, 1, 0, 4, 4, 3, 4, 4, 3, 2, 1, 1, 2, 4, 2, 0, 5, 5, 5, 1, 1, 1, 1, 2]\n"
     ]
    }
   ],
   "source": [
    "classificacao_id = criar_clas(40)\n",
    "print(classificacao_id)"
   ]
  },
  {
   "cell_type": "code",
   "execution_count": 70,
   "metadata": {},
   "outputs": [
    {
     "name": "stdout",
     "output_type": "stream",
     "text": [
      "                               Email  Titulo\n",
      "0   katherineleon@robinson-baker.com  Filme4\n",
      "1                   mjones@gmail.com  Filme5\n",
      "2             benjamin88@hotmail.com  Filme5\n",
      "3         jenningsmelissa@torres.org  Filme5\n",
      "4                    hcook@yahoo.com  Filme4\n",
      "5             brownruben@hotmail.com  Filme3\n",
      "6             holly64@ryan-baker.net  Filme4\n",
      "7                   vriley@gmail.com  Filme4\n",
      "8     daniellemorgan@luna-tucker.com  Filme4\n",
      "9    garnercurtis@murillo-carter.org  Filme1\n",
      "10           rpatterson@thompson.net  Filme1\n",
      "11     andrewwhite@arias-pearson.net  Filme2\n",
      "12         yvonnehernandez@gmail.com  Filme4\n",
      "13          martinphilip@rosario.org  Filme5\n",
      "14                  kfox@hotmail.com  Filme1\n",
      "15            chasevazquez@yahoo.com  Filme1\n",
      "16              dyerjames@kelley.com  Filme4\n",
      "17                gary96@hotmail.com  Filme4\n",
      "18        fholland@miller-barnes.net  Filme2\n",
      "19            coopernancy@walker.com  Filme3\n",
      "20  katherineleon@robinson-baker.com  Filme5\n",
      "21                  mjones@gmail.com  Filme4\n",
      "22            benjamin88@hotmail.com  Filme1\n",
      "23        jenningsmelissa@torres.org  Filme3\n",
      "24                   hcook@yahoo.com  Filme4\n",
      "25            brownruben@hotmail.com  Filme5\n",
      "26            holly64@ryan-baker.net  Filme1\n",
      "27                  vriley@gmail.com  Filme2\n",
      "28    daniellemorgan@luna-tucker.com  Filme3\n",
      "29   garnercurtis@murillo-carter.org  Filme5\n",
      "30           rpatterson@thompson.net  Filme3\n",
      "31     andrewwhite@arias-pearson.net  Filme4\n",
      "32         yvonnehernandez@gmail.com  Filme4\n",
      "33          martinphilip@rosario.org  Filme2\n",
      "34                  kfox@hotmail.com  Filme2\n",
      "35            chasevazquez@yahoo.com  Filme4\n",
      "36              dyerjames@kelley.com  Filme5\n",
      "37                gary96@hotmail.com  Filme1\n",
      "38        fholland@miller-barnes.net  Filme2\n",
      "39            coopernancy@walker.com  Filme1\n"
     ]
    }
   ],
   "source": [
    "# Criando dataframe de dados implicitos\n",
    "df = pd.DataFrame(list(zip(email_id, filme_id)), columns=['Email', 'Titulo'])\n",
    "print(df)\n"
   ]
  },
  {
   "cell_type": "code",
   "execution_count": 71,
   "metadata": {},
   "outputs": [
    {
     "name": "stdout",
     "output_type": "stream",
     "text": [
      "                               Email  Titulo  Classificacao\n",
      "0   katherineleon@robinson-baker.com  Filme4              0\n",
      "1                   mjones@gmail.com  Filme5              5\n",
      "2             benjamin88@hotmail.com  Filme5              1\n",
      "3         jenningsmelissa@torres.org  Filme5              0\n",
      "4                    hcook@yahoo.com  Filme4              3\n",
      "5             brownruben@hotmail.com  Filme3              5\n",
      "6             holly64@ryan-baker.net  Filme4              0\n",
      "7                   vriley@gmail.com  Filme4              1\n",
      "8     daniellemorgan@luna-tucker.com  Filme4              1\n",
      "9    garnercurtis@murillo-carter.org  Filme1              5\n",
      "10           rpatterson@thompson.net  Filme1              3\n",
      "11     andrewwhite@arias-pearson.net  Filme2              1\n",
      "12         yvonnehernandez@gmail.com  Filme4              1\n",
      "13          martinphilip@rosario.org  Filme5              4\n",
      "14                  kfox@hotmail.com  Filme1              1\n",
      "15            chasevazquez@yahoo.com  Filme1              5\n",
      "16              dyerjames@kelley.com  Filme4              4\n",
      "17                gary96@hotmail.com  Filme4              1\n",
      "18        fholland@miller-barnes.net  Filme2              0\n",
      "19            coopernancy@walker.com  Filme3              4\n",
      "20  katherineleon@robinson-baker.com  Filme5              4\n",
      "21                  mjones@gmail.com  Filme4              3\n",
      "22            benjamin88@hotmail.com  Filme1              4\n",
      "23        jenningsmelissa@torres.org  Filme3              4\n",
      "24                   hcook@yahoo.com  Filme4              3\n",
      "25            brownruben@hotmail.com  Filme5              2\n",
      "26            holly64@ryan-baker.net  Filme1              1\n",
      "27                  vriley@gmail.com  Filme2              1\n",
      "28    daniellemorgan@luna-tucker.com  Filme3              2\n",
      "29   garnercurtis@murillo-carter.org  Filme5              4\n",
      "30           rpatterson@thompson.net  Filme3              2\n",
      "31     andrewwhite@arias-pearson.net  Filme4              0\n",
      "32         yvonnehernandez@gmail.com  Filme4              5\n",
      "33          martinphilip@rosario.org  Filme2              5\n",
      "34                  kfox@hotmail.com  Filme2              5\n",
      "35            chasevazquez@yahoo.com  Filme4              1\n",
      "36              dyerjames@kelley.com  Filme5              1\n",
      "37                gary96@hotmail.com  Filme1              1\n",
      "38        fholland@miller-barnes.net  Filme2              1\n",
      "39            coopernancy@walker.com  Filme1              2\n"
     ]
    }
   ],
   "source": [
    "# Criando dataframe de dados explicitos\n",
    "df_classificacao: DataFrame = pd.DataFrame(list(zip(email_id, filme_id, classificacao_id)),\n",
    "                                columns=['Email', 'Titulo', \"Classificacao\"])\n",
    "print(df_classificacao)\n"
   ]
  },
  {
   "cell_type": "markdown",
   "metadata": {},
   "source": [
    "# Recomendação de filmes mais populares"
   ]
  },
  {
   "cell_type": "code",
   "execution_count": 72,
   "metadata": {},
   "outputs": [
    {
     "name": "stdout",
     "output_type": "stream",
     "text": [
      "Filme4    13\n",
      "Filme5     8\n",
      "Filme1     8\n",
      "Filme2     6\n",
      "Filme3     5\n",
      "Name: Titulo, dtype: int64\n"
     ]
    }
   ],
   "source": [
    "# Frequência dos filmes\n",
    "Filmes_populares = df[\"Titulo\"].value_counts()\n",
    "print(Filmes_populares)"
   ]
  },
  {
   "cell_type": "code",
   "execution_count": 73,
   "metadata": {},
   "outputs": [
    {
     "name": "stdout",
     "output_type": "stream",
     "text": [
      "Index(['Filme4', 'Filme5', 'Filme1', 'Filme2'], dtype='object')\n"
     ]
    }
   ],
   "source": [
    "# Filtrando os filmes que aparecem mais vezes\n",
    "Filmes_populares = Filmes_populares[Filmes_populares > 5].index\n",
    "print(Filmes_populares)"
   ]
  },
  {
   "cell_type": "code",
   "execution_count": 74,
   "metadata": {},
   "outputs": [
    {
     "name": "stdout",
     "output_type": "stream",
     "text": [
      "                               Email  Titulo\n",
      "0   katherineleon@robinson-baker.com  Filme4\n",
      "1                   mjones@gmail.com  Filme5\n",
      "2             benjamin88@hotmail.com  Filme5\n",
      "3         jenningsmelissa@torres.org  Filme5\n",
      "4                    hcook@yahoo.com  Filme4\n",
      "6             holly64@ryan-baker.net  Filme4\n",
      "7                   vriley@gmail.com  Filme4\n",
      "8     daniellemorgan@luna-tucker.com  Filme4\n",
      "9    garnercurtis@murillo-carter.org  Filme1\n",
      "10           rpatterson@thompson.net  Filme1\n",
      "11     andrewwhite@arias-pearson.net  Filme2\n",
      "12         yvonnehernandez@gmail.com  Filme4\n",
      "13          martinphilip@rosario.org  Filme5\n",
      "14                  kfox@hotmail.com  Filme1\n",
      "15            chasevazquez@yahoo.com  Filme1\n",
      "16              dyerjames@kelley.com  Filme4\n",
      "17                gary96@hotmail.com  Filme4\n",
      "18        fholland@miller-barnes.net  Filme2\n",
      "20  katherineleon@robinson-baker.com  Filme5\n",
      "21                  mjones@gmail.com  Filme4\n",
      "22            benjamin88@hotmail.com  Filme1\n",
      "24                   hcook@yahoo.com  Filme4\n",
      "25            brownruben@hotmail.com  Filme5\n",
      "26            holly64@ryan-baker.net  Filme1\n",
      "27                  vriley@gmail.com  Filme2\n",
      "29   garnercurtis@murillo-carter.org  Filme5\n",
      "31     andrewwhite@arias-pearson.net  Filme4\n",
      "32         yvonnehernandez@gmail.com  Filme4\n",
      "33          martinphilip@rosario.org  Filme2\n",
      "34                  kfox@hotmail.com  Filme2\n",
      "35            chasevazquez@yahoo.com  Filme4\n",
      "36              dyerjames@kelley.com  Filme5\n",
      "37                gary96@hotmail.com  Filme1\n",
      "38        fholland@miller-barnes.net  Filme2\n",
      "39            coopernancy@walker.com  Filme1\n"
     ]
    }
   ],
   "source": [
    "# Usar a lista populares para filtrar os filmes mais populares no DataFrame original.\n",
    "Rancking_filmes_populares = df[df[\"Titulo\"].isin(Filmes_populares)]\n",
    "print(Rancking_filmes_populares)\n"
   ]
  },
  {
   "cell_type": "code",
   "execution_count": 75,
   "metadata": {},
   "outputs": [
    {
     "data": {
      "text/html": [
       "<div>\n",
       "<style scoped>\n",
       "    .dataframe tbody tr th:only-of-type {\n",
       "        vertical-align: middle;\n",
       "    }\n",
       "\n",
       "    .dataframe tbody tr th {\n",
       "        vertical-align: top;\n",
       "    }\n",
       "\n",
       "    .dataframe thead th {\n",
       "        text-align: right;\n",
       "    }\n",
       "</style>\n",
       "<table border=\"1\" class=\"dataframe\">\n",
       "  <thead>\n",
       "    <tr style=\"text-align: right;\">\n",
       "      <th></th>\n",
       "      <th>Email</th>\n",
       "    </tr>\n",
       "    <tr>\n",
       "      <th>Titulo</th>\n",
       "      <th></th>\n",
       "    </tr>\n",
       "  </thead>\n",
       "  <tbody>\n",
       "    <tr>\n",
       "      <th>Filme1</th>\n",
       "      <td>8</td>\n",
       "    </tr>\n",
       "    <tr>\n",
       "      <th>Filme2</th>\n",
       "      <td>6</td>\n",
       "    </tr>\n",
       "    <tr>\n",
       "      <th>Filme4</th>\n",
       "      <td>13</td>\n",
       "    </tr>\n",
       "    <tr>\n",
       "      <th>Filme5</th>\n",
       "      <td>8</td>\n",
       "    </tr>\n",
       "    <tr>\n",
       "      <th>All</th>\n",
       "      <td>35</td>\n",
       "    </tr>\n",
       "  </tbody>\n",
       "</table>\n",
       "</div>"
      ],
      "text/plain": [
       "        Email\n",
       "Titulo       \n",
       "Filme1      8\n",
       "Filme2      6\n",
       "Filme4     13\n",
       "Filme5      8\n",
       "All        35"
      ]
     },
     "execution_count": 75,
     "metadata": {},
     "output_type": "execute_result"
    }
   ],
   "source": [
    "# Criar ranking de filmes populares\n",
    "Rancking_filmes_populares.pivot_table('Email', index=['Titulo'], aggfunc=\"count\", margins=True)\n"
   ]
  },
  {
   "cell_type": "markdown",
   "metadata": {},
   "source": [
    "# Filmes mais frequentes vistos junto"
   ]
  },
  {
   "cell_type": "code",
   "execution_count": 76,
   "metadata": {},
   "outputs": [],
   "source": [
    "#Os pares de filmes vistos juntos\n",
    "# Criar função permutar os pares de filmes\n",
    "def pares_filmes(x):\n",
    "    pares = pd.DataFrame(list(permutations(x.values, 2)),\n",
    "                       columns=['FilmeA', 'FilmeB'])\n",
    "    return pares\n"
   ]
  },
  {
   "cell_type": "code",
   "execution_count": 77,
   "metadata": {},
   "outputs": [
    {
     "name": "stdout",
     "output_type": "stream",
     "text": [
      "                                    FilmeA  FilmeB\n",
      "Email                                             \n",
      "andrewwhite@arias-pearson.net    0  Filme2  Filme4\n",
      "                                 1  Filme4  Filme2\n",
      "benjamin88@hotmail.com           0  Filme5  Filme1\n",
      "                                 1  Filme1  Filme5\n",
      "brownruben@hotmail.com           0  Filme3  Filme5\n",
      "                                 1  Filme5  Filme3\n",
      "chasevazquez@yahoo.com           0  Filme1  Filme4\n",
      "                                 1  Filme4  Filme1\n",
      "coopernancy@walker.com           0  Filme3  Filme1\n",
      "                                 1  Filme1  Filme3\n",
      "daniellemorgan@luna-tucker.com   0  Filme4  Filme3\n",
      "                                 1  Filme3  Filme4\n",
      "dyerjames@kelley.com             0  Filme4  Filme5\n",
      "                                 1  Filme5  Filme4\n",
      "fholland@miller-barnes.net       0  Filme2  Filme2\n",
      "                                 1  Filme2  Filme2\n",
      "garnercurtis@murillo-carter.org  0  Filme1  Filme5\n",
      "                                 1  Filme5  Filme1\n",
      "gary96@hotmail.com               0  Filme4  Filme1\n",
      "                                 1  Filme1  Filme4\n",
      "hcook@yahoo.com                  0  Filme4  Filme4\n",
      "                                 1  Filme4  Filme4\n",
      "holly64@ryan-baker.net           0  Filme4  Filme1\n",
      "                                 1  Filme1  Filme4\n",
      "jenningsmelissa@torres.org       0  Filme5  Filme3\n",
      "                                 1  Filme3  Filme5\n",
      "katherineleon@robinson-baker.com 0  Filme4  Filme5\n",
      "                                 1  Filme5  Filme4\n",
      "kfox@hotmail.com                 0  Filme1  Filme2\n",
      "                                 1  Filme2  Filme1\n",
      "martinphilip@rosario.org         0  Filme5  Filme2\n",
      "                                 1  Filme2  Filme5\n",
      "mjones@gmail.com                 0  Filme5  Filme4\n",
      "                                 1  Filme4  Filme5\n",
      "rpatterson@thompson.net          0  Filme1  Filme3\n",
      "                                 1  Filme3  Filme1\n",
      "vriley@gmail.com                 0  Filme4  Filme2\n",
      "                                 1  Filme2  Filme4\n",
      "yvonnehernandez@gmail.com        0  Filme4  Filme4\n",
      "                                 1  Filme4  Filme4\n"
     ]
    }
   ],
   "source": [
    "# Ao agrupar o dataframe por título, aplicar a função para delimitar os pares\n",
    "combinar_filmes = df.groupby('Email')['Titulo'].apply(pares_filmes)\n",
    "print(combinar_filmes)"
   ]
  },
  {
   "cell_type": "code",
   "execution_count": 78,
   "metadata": {},
   "outputs": [],
   "source": [
    "# Atribui na variável o número de vezes que ocorre os pares de filmes\n",
    "contar_combinacao = combinar_filmes.groupby(['FilmeA', 'FilmeB']).size()\n"
   ]
  },
  {
   "cell_type": "code",
   "execution_count": 79,
   "metadata": {},
   "outputs": [
    {
     "name": "stdout",
     "output_type": "stream",
     "text": [
      "    FilmeA  FilmeB  size\n",
      "0   Filme1  Filme2     1\n",
      "1   Filme1  Filme3     2\n",
      "2   Filme1  Filme4     3\n",
      "3   Filme1  Filme5     2\n",
      "4   Filme2  Filme1     1\n",
      "5   Filme2  Filme2     2\n",
      "6   Filme2  Filme4     2\n",
      "7   Filme2  Filme5     1\n",
      "8   Filme3  Filme1     2\n",
      "9   Filme3  Filme4     1\n",
      "10  Filme3  Filme5     2\n",
      "11  Filme4  Filme1     3\n",
      "12  Filme4  Filme2     2\n",
      "13  Filme4  Filme3     1\n",
      "14  Filme4  Filme4     4\n",
      "15  Filme4  Filme5     3\n",
      "16  Filme5  Filme1     2\n",
      "17  Filme5  Filme2     1\n",
      "18  Filme5  Filme3     2\n",
      "19  Filme5  Filme4     3\n"
     ]
    }
   ],
   "source": [
    "#Transformar em um Dataframe\n",
    "contar_combinacao_df = contar_combinacao.to_frame(name='size').reset_index()\n",
    "print(contar_combinacao_df)"
   ]
  },
  {
   "cell_type": "code",
   "execution_count": 80,
   "metadata": {},
   "outputs": [
    {
     "name": "stdout",
     "output_type": "stream",
     "text": [
      "    FilmeA  FilmeB  size\n",
      "14  Filme4  Filme4     4\n",
      "19  Filme5  Filme4     3\n",
      "2   Filme1  Filme4     3\n",
      "15  Filme4  Filme5     3\n",
      "11  Filme4  Filme1     3\n"
     ]
    }
   ],
   "source": [
    "#Ordenar o dataset\n",
    "contar_combinacao_df.sort_values('size',ascending=False, inplace=True)\n",
    "print(contar_combinacao_df.head())\n"
   ]
  },
  {
   "cell_type": "code",
   "execution_count": 81,
   "metadata": {},
   "outputs": [
    {
     "name": "stdout",
     "output_type": "stream",
     "text": [
      "    FilmeA  FilmeB  size\n",
      "19  Filme5  Filme4     3\n",
      "18  Filme5  Filme3     2\n",
      "16  Filme5  Filme1     2\n",
      "17  Filme5  Filme2     1\n"
     ]
    }
   ],
   "source": [
    "# Exemplo: Sugestão  com base no filme5\n",
    "Filme5 = contar_combinacao_df[contar_combinacao_df['FilmeA'] == 'Filme5']\n",
    "print(Filme5)"
   ]
  },
  {
   "cell_type": "code",
   "execution_count": 82,
   "metadata": {},
   "outputs": [
    {
     "data": {
      "image/png": "[encoded data removed]",
      "text/plain": [
       "<Figure size 432x288 with 1 Axes>"
      ]
     },
     "metadata": {
      "needs_background": "light"
     },
     "output_type": "display_data"
    }
   ],
   "source": [
    "# Visualizando os resultados\n",
    "import matplotlib.pyplot as plt\n",
    "Filme5.plot.bar(x=\"FilmeB\")\n",
    "plt.show()\n",
    "\n"
   ]
  },
  {
   "cell_type": "markdown",
   "metadata": {},
   "source": [
    "# Recomendação baseada nas similaridades"
   ]
  },
  {
   "cell_type": "code",
   "execution_count": 83,
   "metadata": {},
   "outputs": [],
   "source": [
    "# # Dataset com classificação\n",
    "df_classificacao = df_classificacao.head(20)"
   ]
  },
  {
   "cell_type": "code",
   "execution_count": 84,
   "metadata": {},
   "outputs": [
    {
     "name": "stdout",
     "output_type": "stream",
     "text": [
      "Titulo                            Filme1  Filme2  Filme3  Filme4  Filme5\n",
      "Email                                                                   \n",
      "andrewwhite@arias-pearson.net        NaN     1.0     NaN     NaN     NaN\n",
      "benjamin88@hotmail.com               NaN     NaN     NaN     NaN     1.0\n",
      "brownruben@hotmail.com               NaN     NaN     5.0     NaN     NaN\n",
      "chasevazquez@yahoo.com               5.0     NaN     NaN     NaN     NaN\n",
      "coopernancy@walker.com               NaN     NaN     4.0     NaN     NaN\n",
      "daniellemorgan@luna-tucker.com       NaN     NaN     NaN     1.0     NaN\n",
      "dyerjames@kelley.com                 NaN     NaN     NaN     4.0     NaN\n",
      "fholland@miller-barnes.net           NaN     0.0     NaN     NaN     NaN\n",
      "garnercurtis@murillo-carter.org      5.0     NaN     NaN     NaN     NaN\n",
      "gary96@hotmail.com                   NaN     NaN     NaN     1.0     NaN\n",
      "hcook@yahoo.com                      NaN     NaN     NaN     3.0     NaN\n",
      "holly64@ryan-baker.net               NaN     NaN     NaN     0.0     NaN\n",
      "jenningsmelissa@torres.org           NaN     NaN     NaN     NaN     0.0\n",
      "katherineleon@robinson-baker.com     NaN     NaN     NaN     0.0     NaN\n",
      "kfox@hotmail.com                     1.0     NaN     NaN     NaN     NaN\n",
      "martinphilip@rosario.org             NaN     NaN     NaN     NaN     4.0\n",
      "mjones@gmail.com                     NaN     NaN     NaN     NaN     5.0\n",
      "rpatterson@thompson.net              3.0     NaN     NaN     NaN     NaN\n",
      "vriley@gmail.com                     NaN     NaN     NaN     1.0     NaN\n",
      "yvonnehernandez@gmail.com            NaN     NaN     NaN     1.0     NaN\n"
     ]
    }
   ],
   "source": [
    "# Transformar o dataset em tabela pivot,para relacionar o úsuario e filme com sua respectiva classificação\n",
    "tabela_usuario_classificacao = df_classificacao.pivot(index='Email', columns='Titulo', values=\"Classificacao\")\n",
    "print(tabela_usuario_classificacao)\n"
   ]
  },
  {
   "cell_type": "code",
   "execution_count": 85,
   "metadata": {},
   "outputs": [],
   "source": [
    "# Substituindo as classificações não informadas por zero.\n",
    "tabela_usuario_classificacao_ = tabela_usuario_classificacao.fillna(0)\n"
   ]
  },
  {
   "cell_type": "code",
   "execution_count": 86,
   "metadata": {},
   "outputs": [
    {
     "name": "stdout",
     "output_type": "stream",
     "text": [
      "Email   andrewwhite@arias-pearson.net  benjamin88@hotmail.com  \\\n",
      "Titulo                                                          \n",
      "Filme1                            0.0                     0.0   \n",
      "Filme2                            1.0                     0.0   \n",
      "Filme3                            0.0                     0.0   \n",
      "Filme4                            0.0                     0.0   \n",
      "Filme5                            0.0                     1.0   \n",
      "\n",
      "Email   brownruben@hotmail.com  chasevazquez@yahoo.com  \\\n",
      "Titulo                                                   \n",
      "Filme1                     0.0                     5.0   \n",
      "Filme2                     0.0                     0.0   \n",
      "Filme3                     5.0                     0.0   \n",
      "Filme4                     0.0                     0.0   \n",
      "Filme5                     0.0                     0.0   \n",
      "\n",
      "Email   coopernancy@walker.com  daniellemorgan@luna-tucker.com  \\\n",
      "Titulo                                                           \n",
      "Filme1                     0.0                             0.0   \n",
      "Filme2                     0.0                             0.0   \n",
      "Filme3                     4.0                             0.0   \n",
      "Filme4                     0.0                             1.0   \n",
      "Filme5                     0.0                             0.0   \n",
      "\n",
      "Email   dyerjames@kelley.com  fholland@miller-barnes.net  \\\n",
      "Titulo                                                     \n",
      "Filme1                   0.0                         0.0   \n",
      "Filme2                   0.0                         0.0   \n",
      "Filme3                   0.0                         0.0   \n",
      "Filme4                   4.0                         0.0   \n",
      "Filme5                   0.0                         0.0   \n",
      "\n",
      "Email   garnercurtis@murillo-carter.org  gary96@hotmail.com  hcook@yahoo.com  \\\n",
      "Titulo                                                                         \n",
      "Filme1                              5.0                 0.0              0.0   \n",
      "Filme2                              0.0                 0.0              0.0   \n",
      "Filme3                              0.0                 0.0              0.0   \n",
      "Filme4                              0.0                 1.0              3.0   \n",
      "Filme5                              0.0                 0.0              0.0   \n",
      "\n",
      "Email   holly64@ryan-baker.net  jenningsmelissa@torres.org  \\\n",
      "Titulo                                                       \n",
      "Filme1                     0.0                         0.0   \n",
      "Filme2                     0.0                         0.0   \n",
      "Filme3                     0.0                         0.0   \n",
      "Filme4                     0.0                         0.0   \n",
      "Filme5                     0.0                         0.0   \n",
      "\n",
      "Email   katherineleon@robinson-baker.com  kfox@hotmail.com  \\\n",
      "Titulo                                                       \n",
      "Filme1                               0.0               1.0   \n",
      "Filme2                               0.0               0.0   \n",
      "Filme3                               0.0               0.0   \n",
      "Filme4                               0.0               0.0   \n",
      "Filme5                               0.0               0.0   \n",
      "\n",
      "Email   martinphilip@rosario.org  mjones@gmail.com  rpatterson@thompson.net  \\\n",
      "Titulo                                                                        \n",
      "Filme1                       0.0               0.0                      3.0   \n",
      "Filme2                       0.0               0.0                      0.0   \n",
      "Filme3                       0.0               0.0                      0.0   \n",
      "Filme4                       0.0               0.0                      0.0   \n",
      "Filme5                       4.0               5.0                      0.0   \n",
      "\n",
      "Email   vriley@gmail.com  yvonnehernandez@gmail.com  \n",
      "Titulo                                               \n",
      "Filme1               0.0                        0.0  \n",
      "Filme2               0.0                        0.0  \n",
      "Filme3               0.0                        0.0  \n",
      "Filme4               1.0                        1.0  \n",
      "Filme5               0.0                        0.0  \n"
     ]
    }
   ],
   "source": [
    "# Utilizando a transposta da matriz, para deixar a tabela baseado nos filmes\n",
    "tabela_filme_classificacao_t = tabela_usuario_classificacao_.T\n",
    "print(tabela_filme_classificacao_t)"
   ]
  },
  {
   "cell_type": "code",
   "execution_count": 87,
   "metadata": {},
   "outputs": [
    {
     "name": "stdout",
     "output_type": "stream",
     "text": [
      "[[1. 0. 0. 0. 0.]\n",
      " [0. 1. 0. 0. 0.]\n",
      " [0. 0. 1. 0. 0.]\n",
      " [0. 0. 0. 1. 0.]\n",
      " [0. 0. 0. 0. 1.]]\n"
     ]
    }
   ],
   "source": [
    "# Aplicando cosine_similarity na tabela\n",
    "similaridades = cosine_similarity(tabela_filme_classificacao_t)\n",
    "print(similaridades)"
   ]
  },
  {
   "cell_type": "code",
   "execution_count": 88,
   "metadata": {},
   "outputs": [],
   "source": [
    "# Transformando a tabela em um Dataframe\n",
    "cosine_similarity_df = pd.DataFrame(similaridades, index=tabela_filme_classificacao_t.index,\n",
    "                                    columns=tabela_filme_classificacao_t.index)"
   ]
  },
  {
   "cell_type": "code",
   "execution_count": 89,
   "metadata": {},
   "outputs": [],
   "source": [
    "# Encontrando os filmes similares com o Filme2\n",
    "cosine_similarity_series = cosine_similarity_df.loc['Filme2']"
   ]
  },
  {
   "cell_type": "code",
   "execution_count": 90,
   "metadata": {},
   "outputs": [
    {
     "name": "stdout",
     "output_type": "stream",
     "text": [
      "Titulo\n",
      "Filme2    1.0\n",
      "Filme5    0.0\n",
      "Filme4    0.0\n",
      "Filme3    0.0\n",
      "Filme1    0.0\n",
      "Name: Filme2, dtype: float64\n"
     ]
    }
   ],
   "source": [
    "# Ordenando os valores encontrados\n",
    "ordernar_similarities = cosine_similarity_series.sort_values(ascending=False)\n",
    "print(ordernar_similarities)\n"
   ]
  }
 ],
 "metadata": {
  "kernelspec": {
   "display_name": "Python 3",
   "language": "python",
   "name": "python3"
  },
  "language_info": {
   "codemirror_mode": {
    "name": "ipython",
    "version": 3
   },
   "file_extension": ".py",
   "mimetype": "text/x-python",
   "name": "python",
   "nbconvert_exporter": "python",
   "pygments_lexer": "ipython3",
   "version": "3.8.5"
  }
 },
 "nbformat": 4,
 "nbformat_minor": 4
}
