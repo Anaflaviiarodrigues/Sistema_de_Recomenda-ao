{
 "cells": [
  {
   "cell_type": "code",
   "execution_count": 175,
   "metadata": {},
   "outputs": [],
   "source": [
    "import pandas as pd\n",
    "import random\n",
    "from itertools import permutations\n",
    "from pandas import DataFrame\n",
    "from pandas.core.frame import DataFrame\n",
    "from faker import Faker\n",
    "from sklearn.metrics.pairwise import cosine_similarity\n",
    "\n"
   ]
  },
  {
   "cell_type": "markdown",
   "metadata": {},
   "source": [
    "# Criando a base de dados"
   ]
  },
  {
   "cell_type": "code",
   "execution_count": 176,
   "metadata": {},
   "outputs": [],
   "source": [
    "# Gerar úsuarios com a bibilioteca faker\n",
    "fake = Faker()\n",
    "def criar_email(how_many):\n",
    "    email = []\n",
    "    for i in range(0, how_many):\n",
    "        email.append(fake.email())\n",
    "    return email"
   ]
  },
  {
   "cell_type": "code",
   "execution_count": 177,
   "metadata": {},
   "outputs": [
    {
     "name": "stdout",
     "output_type": "stream",
     "text": [
      "['brownadam@mitchell.org', 'moorejacqueline@yahoo.com', 'parsonsvincent@yahoo.com', 'westcrystal@walker.com', 'ochapman@gmail.com', 'eduarte@yahoo.com', 'justinhill@hotmail.com', 'jonathanreed@gmail.com', 'hernandezkelly@walker.net', 'mark59@yahoo.com', 'timothy17@johnson.com', 'twatson@hotmail.com', 'knightscott@king.org', 'jennifer29@sutton-young.com', 'carlos24@brown.com', 'xrivera@yahoo.com', 'katherine82@jones.com', 'vhart@davidson-zuniga.biz', 'james78@hotmail.com', 'carolyncastillo@gmail.com']\n"
     ]
    }
   ],
   "source": [
    "email = criar_email(20)\n",
    "print(email)\n"
   ]
  },
  {
   "cell_type": "code",
   "execution_count": 178,
   "metadata": {},
   "outputs": [
    {
     "name": "stdout",
     "output_type": "stream",
     "text": [
      "['brownadam@mitchell.org', 'moorejacqueline@yahoo.com', 'parsonsvincent@yahoo.com', 'westcrystal@walker.com', 'ochapman@gmail.com', 'eduarte@yahoo.com', 'justinhill@hotmail.com', 'jonathanreed@gmail.com', 'hernandezkelly@walker.net', 'mark59@yahoo.com', 'timothy17@johnson.com', 'twatson@hotmail.com', 'knightscott@king.org', 'jennifer29@sutton-young.com', 'carlos24@brown.com', 'xrivera@yahoo.com', 'katherine82@jones.com', 'vhart@davidson-zuniga.biz', 'james78@hotmail.com', 'carolyncastillo@gmail.com', 'brownadam@mitchell.org', 'moorejacqueline@yahoo.com', 'parsonsvincent@yahoo.com', 'westcrystal@walker.com', 'ochapman@gmail.com', 'eduarte@yahoo.com', 'justinhill@hotmail.com', 'jonathanreed@gmail.com', 'hernandezkelly@walker.net', 'mark59@yahoo.com', 'timothy17@johnson.com', 'twatson@hotmail.com', 'knightscott@king.org', 'jennifer29@sutton-young.com', 'carlos24@brown.com', 'xrivera@yahoo.com', 'katherine82@jones.com', 'vhart@davidson-zuniga.biz', 'james78@hotmail.com', 'carolyncastillo@gmail.com']\n"
     ]
    }
   ],
   "source": [
    "# Concatenar os emails\n",
    "email_id = email + email\n",
    "print(email_id)"
   ]
  },
  {
   "cell_type": "code",
   "execution_count": 179,
   "metadata": {},
   "outputs": [],
   "source": [
    "# Criar função para determinar os filmes\n",
    "def criar_filmes(how_many):\n",
    "    titulo = [\"Filme1\", \"Filme2\", \"Filme3\", \"Filme4\", \"Filme5\"]\n",
    "    filmes = []\n",
    "    for i in range(0, how_many):\n",
    "        filmes.append(random.choice(titulo))\n",
    "    return filmes\n"
   ]
  },
  {
   "cell_type": "code",
   "execution_count": 180,
   "metadata": {},
   "outputs": [
    {
     "name": "stdout",
     "output_type": "stream",
     "text": [
      "['Filme2', 'Filme4', 'Filme3', 'Filme2', 'Filme4', 'Filme2', 'Filme5', 'Filme3', 'Filme5', 'Filme1', 'Filme1', 'Filme2', 'Filme5', 'Filme1', 'Filme2', 'Filme5', 'Filme5', 'Filme5', 'Filme5', 'Filme2', 'Filme5', 'Filme3', 'Filme3', 'Filme4', 'Filme3', 'Filme3', 'Filme3', 'Filme3', 'Filme2', 'Filme3', 'Filme3', 'Filme5', 'Filme4', 'Filme3', 'Filme2', 'Filme5', 'Filme3', 'Filme5', 'Filme1', 'Filme3']\n"
     ]
    }
   ],
   "source": [
    "filme_id = criar_filmes(40)\n",
    "print(filme_id)\n"
   ]
  },
  {
   "cell_type": "code",
   "execution_count": 181,
   "metadata": {},
   "outputs": [],
   "source": [
    "# Criar função para determinar a classificação\n",
    "def criar_clas(how_many):\n",
    "    classificacao = []\n",
    "    for i in range(0, how_many):\n",
    "        classificacao.append(random.randint(0, 5))\n",
    "    return classificacao\n"
   ]
  },
  {
   "cell_type": "code",
   "execution_count": 182,
   "metadata": {},
   "outputs": [
    {
     "name": "stdout",
     "output_type": "stream",
     "text": [
      "[3, 4, 3, 0, 0, 5, 2, 2, 2, 2, 5, 1, 2, 1, 3, 4, 2, 0, 3, 2, 0, 3, 5, 5, 2, 4, 2, 3, 5, 1, 5, 2, 5, 5, 4, 0, 0, 0, 4, 4]\n"
     ]
    }
   ],
   "source": [
    "classificacao_id = criar_clas(40)\n",
    "print(classificacao_id)"
   ]
  },
  {
   "cell_type": "code",
   "execution_count": 183,
   "metadata": {},
   "outputs": [
    {
     "name": "stdout",
     "output_type": "stream",
     "text": [
      "                          Email  Titulo\n",
      "0        brownadam@mitchell.org  Filme2\n",
      "1     moorejacqueline@yahoo.com  Filme4\n",
      "2      parsonsvincent@yahoo.com  Filme3\n",
      "3        westcrystal@walker.com  Filme2\n",
      "4            ochapman@gmail.com  Filme4\n",
      "5             eduarte@yahoo.com  Filme2\n",
      "6        justinhill@hotmail.com  Filme5\n",
      "7        jonathanreed@gmail.com  Filme3\n",
      "8     hernandezkelly@walker.net  Filme5\n",
      "9              mark59@yahoo.com  Filme1\n",
      "10        timothy17@johnson.com  Filme1\n",
      "11          twatson@hotmail.com  Filme2\n",
      "12         knightscott@king.org  Filme5\n",
      "13  jennifer29@sutton-young.com  Filme1\n",
      "14           carlos24@brown.com  Filme2\n",
      "15            xrivera@yahoo.com  Filme5\n",
      "16        katherine82@jones.com  Filme5\n",
      "17    vhart@davidson-zuniga.biz  Filme5\n",
      "18          james78@hotmail.com  Filme5\n",
      "19    carolyncastillo@gmail.com  Filme2\n",
      "20       brownadam@mitchell.org  Filme5\n",
      "21    moorejacqueline@yahoo.com  Filme3\n",
      "22     parsonsvincent@yahoo.com  Filme3\n",
      "23       westcrystal@walker.com  Filme4\n",
      "24           ochapman@gmail.com  Filme3\n",
      "25            eduarte@yahoo.com  Filme3\n",
      "26       justinhill@hotmail.com  Filme3\n",
      "27       jonathanreed@gmail.com  Filme3\n",
      "28    hernandezkelly@walker.net  Filme2\n",
      "29             mark59@yahoo.com  Filme3\n",
      "30        timothy17@johnson.com  Filme3\n",
      "31          twatson@hotmail.com  Filme5\n",
      "32         knightscott@king.org  Filme4\n",
      "33  jennifer29@sutton-young.com  Filme3\n",
      "34           carlos24@brown.com  Filme2\n",
      "35            xrivera@yahoo.com  Filme5\n",
      "36        katherine82@jones.com  Filme3\n",
      "37    vhart@davidson-zuniga.biz  Filme5\n",
      "38          james78@hotmail.com  Filme1\n",
      "39    carolyncastillo@gmail.com  Filme3\n"
     ]
    }
   ],
   "source": [
    "# Criando dataframe de dados implicitos\n",
    "df = pd.DataFrame(list(zip(email_id, filme_id)), columns=['Email', 'Titulo'])\n",
    "print(df)\n"
   ]
  },
  {
   "cell_type": "code",
   "execution_count": 184,
   "metadata": {},
   "outputs": [
    {
     "name": "stdout",
     "output_type": "stream",
     "text": [
      "                          Email  Titulo  Classificacao\n",
      "0        brownadam@mitchell.org  Filme2              3\n",
      "1     moorejacqueline@yahoo.com  Filme4              4\n",
      "2      parsonsvincent@yahoo.com  Filme3              3\n",
      "3        westcrystal@walker.com  Filme2              0\n",
      "4            ochapman@gmail.com  Filme4              0\n",
      "5             eduarte@yahoo.com  Filme2              5\n",
      "6        justinhill@hotmail.com  Filme5              2\n",
      "7        jonathanreed@gmail.com  Filme3              2\n",
      "8     hernandezkelly@walker.net  Filme5              2\n",
      "9              mark59@yahoo.com  Filme1              2\n",
      "10        timothy17@johnson.com  Filme1              5\n",
      "11          twatson@hotmail.com  Filme2              1\n",
      "12         knightscott@king.org  Filme5              2\n",
      "13  jennifer29@sutton-young.com  Filme1              1\n",
      "14           carlos24@brown.com  Filme2              3\n",
      "15            xrivera@yahoo.com  Filme5              4\n",
      "16        katherine82@jones.com  Filme5              2\n",
      "17    vhart@davidson-zuniga.biz  Filme5              0\n",
      "18          james78@hotmail.com  Filme5              3\n",
      "19    carolyncastillo@gmail.com  Filme2              2\n",
      "20       brownadam@mitchell.org  Filme5              0\n",
      "21    moorejacqueline@yahoo.com  Filme3              3\n",
      "22     parsonsvincent@yahoo.com  Filme3              5\n",
      "23       westcrystal@walker.com  Filme4              5\n",
      "24           ochapman@gmail.com  Filme3              2\n",
      "25            eduarte@yahoo.com  Filme3              4\n",
      "26       justinhill@hotmail.com  Filme3              2\n",
      "27       jonathanreed@gmail.com  Filme3              3\n",
      "28    hernandezkelly@walker.net  Filme2              5\n",
      "29             mark59@yahoo.com  Filme3              1\n",
      "30        timothy17@johnson.com  Filme3              5\n",
      "31          twatson@hotmail.com  Filme5              2\n",
      "32         knightscott@king.org  Filme4              5\n",
      "33  jennifer29@sutton-young.com  Filme3              5\n",
      "34           carlos24@brown.com  Filme2              4\n",
      "35            xrivera@yahoo.com  Filme5              0\n",
      "36        katherine82@jones.com  Filme3              0\n",
      "37    vhart@davidson-zuniga.biz  Filme5              0\n",
      "38          james78@hotmail.com  Filme1              4\n",
      "39    carolyncastillo@gmail.com  Filme3              4\n"
     ]
    }
   ],
   "source": [
    "# Criando dataframe de dados explicitos\n",
    "df_classificacao: DataFrame = pd.DataFrame(list(zip(email_id, filme_id, classificacao_id)),\n",
    "                                columns=['Email', 'Titulo', \"Classificacao\"])\n",
    "print(df_classificacao)\n"
   ]
  },
  {
   "cell_type": "markdown",
   "metadata": {},
   "source": [
    "# Recomendação de filmes mais populares"
   ]
  },
  {
   "cell_type": "code",
   "execution_count": 185,
   "metadata": {},
   "outputs": [
    {
     "name": "stdout",
     "output_type": "stream",
     "text": [
      "Filme3    13\n",
      "Filme5    11\n",
      "Filme2     8\n",
      "Filme4     4\n",
      "Filme1     4\n",
      "Name: Titulo, dtype: int64\n"
     ]
    }
   ],
   "source": [
    "# Frequência dos filmes\n",
    "Filmes_populares = df[\"Titulo\"].value_counts()\n",
    "print(Filmes_populares)"
   ]
  },
  {
   "cell_type": "code",
   "execution_count": 186,
   "metadata": {},
   "outputs": [
    {
     "name": "stdout",
     "output_type": "stream",
     "text": [
      "Index(['Filme3', 'Filme5', 'Filme2'], dtype='object')\n"
     ]
    }
   ],
   "source": [
    "# Filtrando os filmes que aparecem mais vezes\n",
    "Filmes_populares = Filmes_populares[Filmes_populares > 5].index\n",
    "print(Filmes_populares)"
   ]
  },
  {
   "cell_type": "code",
   "execution_count": 187,
   "metadata": {},
   "outputs": [
    {
     "name": "stdout",
     "output_type": "stream",
     "text": [
      "                          Email  Titulo\n",
      "0        brownadam@mitchell.org  Filme2\n",
      "2      parsonsvincent@yahoo.com  Filme3\n",
      "3        westcrystal@walker.com  Filme2\n",
      "5             eduarte@yahoo.com  Filme2\n",
      "6        justinhill@hotmail.com  Filme5\n",
      "7        jonathanreed@gmail.com  Filme3\n",
      "8     hernandezkelly@walker.net  Filme5\n",
      "11          twatson@hotmail.com  Filme2\n",
      "12         knightscott@king.org  Filme5\n",
      "14           carlos24@brown.com  Filme2\n",
      "15            xrivera@yahoo.com  Filme5\n",
      "16        katherine82@jones.com  Filme5\n",
      "17    vhart@davidson-zuniga.biz  Filme5\n",
      "18          james78@hotmail.com  Filme5\n",
      "19    carolyncastillo@gmail.com  Filme2\n",
      "20       brownadam@mitchell.org  Filme5\n",
      "21    moorejacqueline@yahoo.com  Filme3\n",
      "22     parsonsvincent@yahoo.com  Filme3\n",
      "24           ochapman@gmail.com  Filme3\n",
      "25            eduarte@yahoo.com  Filme3\n",
      "26       justinhill@hotmail.com  Filme3\n",
      "27       jonathanreed@gmail.com  Filme3\n",
      "28    hernandezkelly@walker.net  Filme2\n",
      "29             mark59@yahoo.com  Filme3\n",
      "30        timothy17@johnson.com  Filme3\n",
      "31          twatson@hotmail.com  Filme5\n",
      "33  jennifer29@sutton-young.com  Filme3\n",
      "34           carlos24@brown.com  Filme2\n",
      "35            xrivera@yahoo.com  Filme5\n",
      "36        katherine82@jones.com  Filme3\n",
      "37    vhart@davidson-zuniga.biz  Filme5\n",
      "39    carolyncastillo@gmail.com  Filme3\n"
     ]
    }
   ],
   "source": [
    "# Usar a lista populares para filtrar os filmes mais populares no DataFrame original.\n",
    "Rancking_filmes_populares = df[df[\"Titulo\"].isin(Filmes_populares)]\n",
    "print(Rancking_filmes_populares)\n"
   ]
  },
  {
   "cell_type": "code",
   "execution_count": 188,
   "metadata": {},
   "outputs": [
    {
     "data": {
      "text/html": [
       "<div>\n",
       "<style scoped>\n",
       "    .dataframe tbody tr th:only-of-type {\n",
       "        vertical-align: middle;\n",
       "    }\n",
       "\n",
       "    .dataframe tbody tr th {\n",
       "        vertical-align: top;\n",
       "    }\n",
       "\n",
       "    .dataframe thead th {\n",
       "        text-align: right;\n",
       "    }\n",
       "</style>\n",
       "<table border=\"1\" class=\"dataframe\">\n",
       "  <thead>\n",
       "    <tr style=\"text-align: right;\">\n",
       "      <th></th>\n",
       "      <th>Email</th>\n",
       "    </tr>\n",
       "    <tr>\n",
       "      <th>Titulo</th>\n",
       "      <th></th>\n",
       "    </tr>\n",
       "  </thead>\n",
       "  <tbody>\n",
       "    <tr>\n",
       "      <th>Filme2</th>\n",
       "      <td>8</td>\n",
       "    </tr>\n",
       "    <tr>\n",
       "      <th>Filme3</th>\n",
       "      <td>13</td>\n",
       "    </tr>\n",
       "    <tr>\n",
       "      <th>Filme5</th>\n",
       "      <td>11</td>\n",
       "    </tr>\n",
       "    <tr>\n",
       "      <th>All</th>\n",
       "      <td>32</td>\n",
       "    </tr>\n",
       "  </tbody>\n",
       "</table>\n",
       "</div>"
      ],
      "text/plain": [
       "        Email\n",
       "Titulo       \n",
       "Filme2      8\n",
       "Filme3     13\n",
       "Filme5     11\n",
       "All        32"
      ]
     },
     "execution_count": 188,
     "metadata": {},
     "output_type": "execute_result"
    }
   ],
   "source": [
    "# Criar ranking de filmes populares\n",
    "Rancking_filmes_populares.pivot_table('Email', index=['Titulo'], aggfunc=\"count\", margins=True)\n"
   ]
  },
  {
   "cell_type": "markdown",
   "metadata": {},
   "source": [
    "# Filmes mais frequentes vistos junto"
   ]
  },
  {
   "cell_type": "code",
   "execution_count": 189,
   "metadata": {},
   "outputs": [],
   "source": [
    "#Os pares de filmes vistos juntos\n",
    "# Criar função permutar os pares de filmes\n",
    "def pares_filmes(x):\n",
    "    pares = pd.DataFrame(list(permutations(x.values, 2)),\n",
    "                       columns=['FilmeA', 'FilmeB'])\n",
    "    return pares\n"
   ]
  },
  {
   "cell_type": "code",
   "execution_count": 190,
   "metadata": {},
   "outputs": [
    {
     "name": "stdout",
     "output_type": "stream",
     "text": [
      "                               FilmeA  FilmeB\n",
      "Email                                        \n",
      "brownadam@mitchell.org      0  Filme2  Filme5\n",
      "                            1  Filme5  Filme2\n",
      "carlos24@brown.com          0  Filme2  Filme2\n",
      "                            1  Filme2  Filme2\n",
      "carolyncastillo@gmail.com   0  Filme2  Filme3\n",
      "                            1  Filme3  Filme2\n",
      "eduarte@yahoo.com           0  Filme2  Filme3\n",
      "                            1  Filme3  Filme2\n",
      "hernandezkelly@walker.net   0  Filme5  Filme2\n",
      "                            1  Filme2  Filme5\n",
      "james78@hotmail.com         0  Filme5  Filme1\n",
      "                            1  Filme1  Filme5\n",
      "jennifer29@sutton-young.com 0  Filme1  Filme3\n",
      "                            1  Filme3  Filme1\n",
      "jonathanreed@gmail.com      0  Filme3  Filme3\n",
      "                            1  Filme3  Filme3\n",
      "justinhill@hotmail.com      0  Filme5  Filme3\n",
      "                            1  Filme3  Filme5\n",
      "katherine82@jones.com       0  Filme5  Filme3\n",
      "                            1  Filme3  Filme5\n",
      "knightscott@king.org        0  Filme5  Filme4\n",
      "                            1  Filme4  Filme5\n",
      "mark59@yahoo.com            0  Filme1  Filme3\n",
      "                            1  Filme3  Filme1\n",
      "moorejacqueline@yahoo.com   0  Filme4  Filme3\n",
      "                            1  Filme3  Filme4\n",
      "ochapman@gmail.com          0  Filme4  Filme3\n",
      "                            1  Filme3  Filme4\n",
      "parsonsvincent@yahoo.com    0  Filme3  Filme3\n",
      "                            1  Filme3  Filme3\n",
      "timothy17@johnson.com       0  Filme1  Filme3\n",
      "                            1  Filme3  Filme1\n",
      "twatson@hotmail.com         0  Filme2  Filme5\n",
      "                            1  Filme5  Filme2\n",
      "vhart@davidson-zuniga.biz   0  Filme5  Filme5\n",
      "                            1  Filme5  Filme5\n",
      "westcrystal@walker.com      0  Filme2  Filme4\n",
      "                            1  Filme4  Filme2\n",
      "xrivera@yahoo.com           0  Filme5  Filme5\n",
      "                            1  Filme5  Filme5\n"
     ]
    }
   ],
   "source": [
    "# Ao agrupar o dataframe por título, aplicar a função para delimitar os pares\n",
    "combinar_filmes = df.groupby('Email')['Titulo'].apply(pares_filmes)\n",
    "print(combinar_filmes)"
   ]
  },
  {
   "cell_type": "code",
   "execution_count": 191,
   "metadata": {},
   "outputs": [],
   "source": [
    "# Atribui na variável o número de vezes que ocorre os pares de filmes\n",
    "contar_combinacao = combinar_filmes.groupby(['FilmeA', 'FilmeB']).size()\n"
   ]
  },
  {
   "cell_type": "code",
   "execution_count": 192,
   "metadata": {},
   "outputs": [
    {
     "name": "stdout",
     "output_type": "stream",
     "text": [
      "    FilmeA  FilmeB  size\n",
      "0   Filme1  Filme3     3\n",
      "1   Filme1  Filme5     1\n",
      "2   Filme2  Filme2     2\n",
      "3   Filme2  Filme3     2\n",
      "4   Filme2  Filme4     1\n",
      "5   Filme2  Filme5     3\n",
      "6   Filme3  Filme1     3\n",
      "7   Filme3  Filme2     2\n",
      "8   Filme3  Filme3     4\n",
      "9   Filme3  Filme4     2\n",
      "10  Filme3  Filme5     2\n",
      "11  Filme4  Filme2     1\n",
      "12  Filme4  Filme3     2\n",
      "13  Filme4  Filme5     1\n",
      "14  Filme5  Filme1     1\n",
      "15  Filme5  Filme2     3\n",
      "16  Filme5  Filme3     2\n",
      "17  Filme5  Filme4     1\n",
      "18  Filme5  Filme5     4\n"
     ]
    }
   ],
   "source": [
    "#Transformar em um Dataframe\n",
    "contar_combinacao_df = contar_combinacao.to_frame(name='size').reset_index()\n",
    "print(contar_combinacao_df)"
   ]
  },
  {
   "cell_type": "code",
   "execution_count": 193,
   "metadata": {},
   "outputs": [
    {
     "name": "stdout",
     "output_type": "stream",
     "text": [
      "    FilmeA  FilmeB  size\n",
      "18  Filme5  Filme5     4\n",
      "8   Filme3  Filme3     4\n",
      "5   Filme2  Filme5     3\n",
      "15  Filme5  Filme2     3\n",
      "6   Filme3  Filme1     3\n"
     ]
    }
   ],
   "source": [
    "#Ordenar o dataset\n",
    "contar_combinacao_df.sort_values('size',ascending=False, inplace=True)\n",
    "print(contar_combinacao_df.head())\n"
   ]
  },
  {
   "cell_type": "code",
   "execution_count": 194,
   "metadata": {},
   "outputs": [
    {
     "name": "stdout",
     "output_type": "stream",
     "text": [
      "    FilmeA  FilmeB  size\n",
      "18  Filme5  Filme5     4\n",
      "15  Filme5  Filme2     3\n",
      "16  Filme5  Filme3     2\n",
      "14  Filme5  Filme1     1\n",
      "17  Filme5  Filme4     1\n"
     ]
    }
   ],
   "source": [
    "# Exemplo: Sugestão  com base no filme5\n",
    "Filme5 = contar_combinacao_df[contar_combinacao_df['FilmeA'] == 'Filme5']\n",
    "print(Filme5)"
   ]
  },
  {
   "cell_type": "code",
   "execution_count": 195,
   "metadata": {},
   "outputs": [
    {
     "data": {
      "image/png": "[encoded data removed]",
      "text/plain": [
       "<Figure size 432x288 with 1 Axes>"
      ]
     },
     "metadata": {
      "needs_background": "light"
     },
     "output_type": "display_data"
    }
   ],
   "source": [
    "# Visualizando os resultados\n",
    "import matplotlib.pyplot as plt\n",
    "Filme5.plot.bar(x=\"FilmeB\")\n",
    "plt.show()\n",
    "\n"
   ]
  },
  {
   "cell_type": "markdown",
   "metadata": {},
   "source": [
    "# Recomendação baseada nas similaridades"
   ]
  },
  {
   "cell_type": "code",
   "execution_count": 196,
   "metadata": {},
   "outputs": [],
   "source": [
    "# # Dataset com classificação\n",
    "df_classificacao = df_classificacao.head(20)"
   ]
  },
  {
   "cell_type": "code",
   "execution_count": 197,
   "metadata": {},
   "outputs": [
    {
     "name": "stdout",
     "output_type": "stream",
     "text": [
      "Titulo                       Filme1  Filme2  Filme3  Filme4  Filme5\n",
      "Email                                                              \n",
      "brownadam@mitchell.org          NaN     3.0     NaN     NaN     NaN\n",
      "carlos24@brown.com              NaN     3.0     NaN     NaN     NaN\n",
      "carolyncastillo@gmail.com       NaN     2.0     NaN     NaN     NaN\n",
      "eduarte@yahoo.com               NaN     5.0     NaN     NaN     NaN\n",
      "hernandezkelly@walker.net       NaN     NaN     NaN     NaN     2.0\n",
      "james78@hotmail.com             NaN     NaN     NaN     NaN     3.0\n",
      "jennifer29@sutton-young.com     1.0     NaN     NaN     NaN     NaN\n",
      "jonathanreed@gmail.com          NaN     NaN     2.0     NaN     NaN\n",
      "justinhill@hotmail.com          NaN     NaN     NaN     NaN     2.0\n",
      "katherine82@jones.com           NaN     NaN     NaN     NaN     2.0\n",
      "knightscott@king.org            NaN     NaN     NaN     NaN     2.0\n",
      "mark59@yahoo.com                2.0     NaN     NaN     NaN     NaN\n",
      "moorejacqueline@yahoo.com       NaN     NaN     NaN     4.0     NaN\n",
      "ochapman@gmail.com              NaN     NaN     NaN     0.0     NaN\n",
      "parsonsvincent@yahoo.com        NaN     NaN     3.0     NaN     NaN\n",
      "timothy17@johnson.com           5.0     NaN     NaN     NaN     NaN\n",
      "twatson@hotmail.com             NaN     1.0     NaN     NaN     NaN\n",
      "vhart@davidson-zuniga.biz       NaN     NaN     NaN     NaN     0.0\n",
      "westcrystal@walker.com          NaN     0.0     NaN     NaN     NaN\n",
      "xrivera@yahoo.com               NaN     NaN     NaN     NaN     4.0\n"
     ]
    }
   ],
   "source": [
    "# Transformar o dataset em tabela pivot,para relacionar o úsuario e filme com sua respectiva classificação\n",
    "tabela_usuario_classificacao = df_classificacao.pivot(index='Email', columns='Titulo', values=\"Classificacao\")\n",
    "print(tabela_usuario_classificacao)\n"
   ]
  },
  {
   "cell_type": "code",
   "execution_count": 198,
   "metadata": {},
   "outputs": [],
   "source": [
    "# Substituindo as classificações não informadas por zero.\n",
    "tabela_usuario_classificacao_ = tabela_usuario_classificacao.fillna(0)\n"
   ]
  },
  {
   "cell_type": "code",
   "execution_count": 199,
   "metadata": {},
   "outputs": [
    {
     "name": "stdout",
     "output_type": "stream",
     "text": [
      "Email   brownadam@mitchell.org  carlos24@brown.com  carolyncastillo@gmail.com  \\\n",
      "Titulo                                                                          \n",
      "Filme1                     0.0                 0.0                        0.0   \n",
      "Filme2                     3.0                 3.0                        2.0   \n",
      "Filme3                     0.0                 0.0                        0.0   \n",
      "Filme4                     0.0                 0.0                        0.0   \n",
      "Filme5                     0.0                 0.0                        0.0   \n",
      "\n",
      "Email   eduarte@yahoo.com  hernandezkelly@walker.net  james78@hotmail.com  \\\n",
      "Titulo                                                                      \n",
      "Filme1                0.0                        0.0                  0.0   \n",
      "Filme2                5.0                        0.0                  0.0   \n",
      "Filme3                0.0                        0.0                  0.0   \n",
      "Filme4                0.0                        0.0                  0.0   \n",
      "Filme5                0.0                        2.0                  3.0   \n",
      "\n",
      "Email   jennifer29@sutton-young.com  jonathanreed@gmail.com  \\\n",
      "Titulo                                                        \n",
      "Filme1                          1.0                     0.0   \n",
      "Filme2                          0.0                     0.0   \n",
      "Filme3                          0.0                     2.0   \n",
      "Filme4                          0.0                     0.0   \n",
      "Filme5                          0.0                     0.0   \n",
      "\n",
      "Email   justinhill@hotmail.com  katherine82@jones.com  knightscott@king.org  \\\n",
      "Titulo                                                                        \n",
      "Filme1                     0.0                    0.0                   0.0   \n",
      "Filme2                     0.0                    0.0                   0.0   \n",
      "Filme3                     0.0                    0.0                   0.0   \n",
      "Filme4                     0.0                    0.0                   0.0   \n",
      "Filme5                     2.0                    2.0                   2.0   \n",
      "\n",
      "Email   mark59@yahoo.com  moorejacqueline@yahoo.com  ochapman@gmail.com  \\\n",
      "Titulo                                                                    \n",
      "Filme1               2.0                        0.0                 0.0   \n",
      "Filme2               0.0                        0.0                 0.0   \n",
      "Filme3               0.0                        0.0                 0.0   \n",
      "Filme4               0.0                        4.0                 0.0   \n",
      "Filme5               0.0                        0.0                 0.0   \n",
      "\n",
      "Email   parsonsvincent@yahoo.com  timothy17@johnson.com  twatson@hotmail.com  \\\n",
      "Titulo                                                                         \n",
      "Filme1                       0.0                    5.0                  0.0   \n",
      "Filme2                       0.0                    0.0                  1.0   \n",
      "Filme3                       3.0                    0.0                  0.0   \n",
      "Filme4                       0.0                    0.0                  0.0   \n",
      "Filme5                       0.0                    0.0                  0.0   \n",
      "\n",
      "Email   vhart@davidson-zuniga.biz  westcrystal@walker.com  xrivera@yahoo.com  \n",
      "Titulo                                                                        \n",
      "Filme1                        0.0                     0.0                0.0  \n",
      "Filme2                        0.0                     0.0                0.0  \n",
      "Filme3                        0.0                     0.0                0.0  \n",
      "Filme4                        0.0                     0.0                0.0  \n",
      "Filme5                        0.0                     0.0                4.0  \n"
     ]
    }
   ],
   "source": [
    "# Utilizando a transposta da matriz, para deixar a tabela baseado nos filmes\n",
    "tabela_filme_classificacao_t = tabela_usuario_classificacao_.T\n",
    "print(tabela_filme_classificacao_t)"
   ]
  },
  {
   "cell_type": "code",
   "execution_count": 200,
   "metadata": {},
   "outputs": [
    {
     "name": "stdout",
     "output_type": "stream",
     "text": [
      "[[1. 0. 0. 0. 0.]\n",
      " [0. 1. 0. 0. 0.]\n",
      " [0. 0. 1. 0. 0.]\n",
      " [0. 0. 0. 1. 0.]\n",
      " [0. 0. 0. 0. 1.]]\n"
     ]
    }
   ],
   "source": [
    "# Aplicando cosine_similarity na tabela\n",
    "similaridades = cosine_similarity(tabela_filme_classificacao_t)\n",
    "print(similaridades)"
   ]
  },
  {
   "cell_type": "code",
   "execution_count": 201,
   "metadata": {},
   "outputs": [],
   "source": [
    "# Transformando a tabela em um Dataframe\n",
    "cosine_similarity_df = pd.DataFrame(similaridades, index=tabela_filme_classificacao_t.index,\n",
    "                                    columns=tabela_filme_classificacao_t.index)"
   ]
  },
  {
   "cell_type": "code",
   "execution_count": 202,
   "metadata": {},
   "outputs": [],
   "source": [
    "# Encontrando os filmes similares com o Filme2\n",
    "cosine_similarity_series = cosine_similarity_df.loc['Filme2']"
   ]
  },
  {
   "cell_type": "code",
   "execution_count": 203,
   "metadata": {},
   "outputs": [
    {
     "name": "stdout",
     "output_type": "stream",
     "text": [
      "Titulo\n",
      "Filme2    1.0\n",
      "Filme5    0.0\n",
      "Filme4    0.0\n",
      "Filme3    0.0\n",
      "Filme1    0.0\n",
      "Name: Filme2, dtype: float64\n"
     ]
    }
   ],
   "source": [
    "# Ordenando os valores encontrados\n",
    "ordernar_similarities = cosine_similarity_series.sort_values(ascending=False)\n",
    "print(ordernar_similarities)\n"
   ]
  }
 ],
 "metadata": {
  "kernelspec": {
   "display_name": "Python 3",
   "language": "python",
   "name": "python3"
  },
  "language_info": {
   "codemirror_mode": {
    "name": "ipython",
    "version": 3
   },
   "file_extension": ".py",
   "mimetype": "text/x-python",
   "name": "python",
   "nbconvert_exporter": "python",
   "pygments_lexer": "ipython3",
   "version": "3.8.5"
  }
 },
 "nbformat": 4,
 "nbformat_minor": 4
}
